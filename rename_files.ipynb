{
 "cells": [
  {
   "cell_type": "markdown",
   "metadata": {},
   "source": [
    "# Audio filename cleaner\n",
    "This python program can be used to delete repeated text in a batch of filenames so that it can be organised in folders in compact text length."
   ]
  },
  {
   "cell_type": "code",
   "execution_count": 23,
   "metadata": {},
   "outputs": [],
   "source": [
    "#import modules that will be used\n",
    "import os"
   ]
  },
  {
   "cell_type": "code",
   "execution_count": 113,
   "metadata": {},
   "outputs": [],
   "source": [
    "#define functions\n",
    "\n",
    "#check if a string contains a number-period sequence\n",
    "def check_for_ndot(txt):\n",
    "    test = False\n",
    "    for i in range(10):\n",
    "        sub_string=str(i)+\".\"\n",
    "        if sub_string in txt: test = True\n",
    "    return test\n",
    "\n",
    "def check_for_nspace(txt):\n",
    "    test = False\n",
    "    for i in range(10):\n",
    "        sub_string=str(i)+\" \"\n",
    "        if sub_string in txt: test = True\n",
    "    return test\n",
    "\n",
    "def check_for_ndash(txt):\n",
    "    test = False\n",
    "    for i in range(10):\n",
    "        sub_string=str(i)+\"-\"\n",
    "        if sub_string in txt: test = True\n",
    "    return test\n",
    "\n",
    "def check_for_nbracket(txt):\n",
    "    test = False\n",
    "    for i in range(10):\n",
    "        sub_string=str(i)+\")\"\n",
    "        if sub_string in txt: test = True\n",
    "    return test\n",
    "\n",
    "def check_valid_musicfile(file_name):\n",
    "    #check if file_name is a valid file\n",
    "    valid_file = False\n",
    "    if \".mp3\" in file_name:\n",
    "        valid_file = True\n",
    "    elif \".MP3\" in file_name:\n",
    "        valid_file = True\n",
    "    elif \".m4a\" in file_name:\n",
    "        valid_file = True\n",
    "    elif \".flac\" in file_name:\n",
    "        valid_file = True\n",
    "    elif \".wma\" in file_name:\n",
    "        valid_file = True        \n",
    "    #also check for hidden files in maxOS which start at .    \n",
    "    if file_name[0] == \".\":\n",
    "        valid_file = False\n",
    "    return valid_file\n",
    "\n",
    "def clean_filename(file_name,search_word):\n",
    "    #this function assumes that search_word is contained in file_name\n",
    "    #the function will delete the string from [0] to the end of matching search_word\n",
    "    #warning: no checks will be made based on the above assumptions\n",
    "    x = len(file_name)\n",
    "    y = file_name.index(search_word)\n",
    "    z = y + len(search_word)\n",
    "    #position z such that the next character will not be a space character\n",
    "    while file_name[z] == \" \":\n",
    "        z = z + 1\n",
    "    new_name=file_name[z:x]\n",
    "    return new_name\n"
   ]
  },
  {
   "cell_type": "code",
   "execution_count": 117,
   "metadata": {},
   "outputs": [
    {
     "name": "stdin",
     "output_type": "stream",
     "text": [
      "input file path:  /Volumes/Extreme SSD/Music/Vonda Shepard\n"
     ]
    },
    {
     "name": "stdout",
     "output_type": "stream",
     "text": [
      "/Volumes/Extreme SSD/Music/Vonda Shepard\n"
     ]
    }
   ],
   "source": [
    "#It would be nice to select the directory path using finder-like capability\n",
    "path = input(\"input file path: \")\n",
    "os.chdir(path)\n",
    "print(os.getcwd())\n",
    "files = os.listdir(os.getcwd())"
   ]
  },
  {
   "cell_type": "code",
   "execution_count": 118,
   "metadata": {},
   "outputs": [
    {
     "name": "stdout",
     "output_type": "stream",
     "text": [
      "Shepard - 03 - Someday We'll B.mp3\n",
      "Shepard - 04 - To Sir, With Lo.mp3\n",
      "Shepard - 07 - Vincent (Starry.mp3\n",
      "Shepard - 11 - Baby, Don't You.mp3\n"
     ]
    }
   ],
   "source": [
    "#first round of test is to check for typical conditions for cleaning\n",
    "for file_name in files:\n",
    "    #check if file_name is a valid file\n",
    "    valid_file = check_valid_musicfile(file_name)\n",
    "    #first test is for ndot format\n",
    "    if check_for_ndot(file_name) and valid_file:\n",
    "        new_name = clean_filename(file_name, \".\")\n",
    "        print(new_name)\n",
    "        os.renames(file_name, new_name)\n",
    "    #second test is for nspace format\n",
    "    elif check_for_nspace(file_name) and valid_file:\n",
    "        new_name = clean_filename(file_name, \" \")\n",
    "        print(new_name)\n",
    "        os.renames(file_name, new_name)\n",
    "    #third test is for ndash format\n",
    "    elif check_for_ndash(file_name) and valid_file:\n",
    "        new_name = clean_filename(file_name, \"-\")\n",
    "        print(new_name)\n",
    "        os.renames(file_name, new_name)\n",
    "    #fourth test is for nbracket format\n",
    "    elif check_for_nbracket(file_name) and valid_file:\n",
    "        new_name = clean_filename(file_name, \")\")\n",
    "        print(new_name)\n",
    "        os.renames(file_name, new_name)"
   ]
  },
  {
   "cell_type": "code",
   "execution_count": 119,
   "metadata": {},
   "outputs": [
    {
     "name": "stdin",
     "output_type": "stream",
     "text": [
      "Search character, word or phrase? : -\n"
     ]
    }
   ],
   "source": [
    "search_word = input(\"Search character, word or phrase? :\")"
   ]
  },
  {
   "cell_type": "code",
   "execution_count": 121,
   "metadata": {},
   "outputs": [
    {
     "name": "stdout",
     "output_type": "stream",
     "text": [
      "Vincent (Starry.mp3\n",
      "Baby, Don't You.mp3\n",
      "Someday We'll B.mp3\n",
      "To Sir, With Lo.mp3\n"
     ]
    }
   ],
   "source": [
    "#second round will look for specific search word\n",
    "files = os.listdir(os.getcwd())\n",
    "\n",
    "for file_name in files:\n",
    "    #check if file_name is a valid file\n",
    "    valid_file = check_valid_musicfile(file_name)\n",
    "    if search_word in file_name and valid_file:\n",
    "        new_name = clean_filename(file_name, search_word)\n",
    "        print(new_name)\n",
    "        os.renames(file_name, new_name)"
   ]
  },
  {
   "cell_type": "code",
   "execution_count": null,
   "metadata": {},
   "outputs": [],
   "source": []
  }
 ],
 "metadata": {
  "kernelspec": {
   "display_name": "Python 3",
   "language": "python",
   "name": "python3"
  },
  "language_info": {
   "codemirror_mode": {
    "name": "ipython",
    "version": 3
   },
   "file_extension": ".py",
   "mimetype": "text/x-python",
   "name": "python",
   "nbconvert_exporter": "python",
   "pygments_lexer": "ipython3",
   "version": "3.7.6"
  }
 },
 "nbformat": 4,
 "nbformat_minor": 4
}
