{
 "cells": [
  {
   "cell_type": "markdown",
   "metadata": {},
   "source": [
    "# Audio filename cleaner\n",
    "This python program can be used to delete repeated text in a batch of filenames so that it can be organised in folders in compact text length."
   ]
  },
  {
   "cell_type": "code",
   "execution_count": 1,
   "metadata": {},
   "outputs": [],
   "source": [
    "#import modules that will be used\n",
    "import os"
   ]
  },
  {
   "cell_type": "code",
   "execution_count": 26,
   "metadata": {},
   "outputs": [],
   "source": [
    "#define functions\n",
    "\n",
    "#check if a string contains a number-char sequence\n",
    "def check_for_xchar(file_name,xchar):\n",
    "    test = \"\"\n",
    "    for i in range(10):\n",
    "        sub_string=str(i)+xchar\n",
    "        if sub_string in file_name: \n",
    "            y = file_name.index(sub_string)\n",
    "            #the number-char sequence is not at the start, ignore it\n",
    "            if y < 5: test = sub_string\n",
    "            else: test = \"\"\n",
    "            break\n",
    "    return test\n",
    "\n",
    "def check_valid_musicfile(file_name):\n",
    "    #check if file_name is a valid file\n",
    "    valid_file = False\n",
    "    #first, check if it is a hidden file in maxOS which start at \".\"  \n",
    "    if file_name[0] == \".\":\n",
    "        valid_file = False\n",
    "    elif \".mp3\" in file_name:\n",
    "        valid_file = True\n",
    "    elif \".MP3\" in file_name:\n",
    "        valid_file = True\n",
    "    elif \".m4a\" in file_name:\n",
    "        valid_file = True\n",
    "    elif \".flac\" in file_name:\n",
    "        valid_file = True\n",
    "    elif \".wma\" in file_name:\n",
    "        valid_file = True  \n",
    "    return valid_file\n",
    "\n",
    "def clean_filename(file_name, search_word):\n",
    "    #the function will delete the string from [0] to the end of matching search_word\n",
    "    #however, if the search_word starts with @, \n",
    "    #the function will delete from start of matching word to the end\n",
    "    if search_word[0] != \"@\":\n",
    "        if search_word in file_name:\n",
    "            x = len(file_name)\n",
    "            y = file_name.index(search_word)\n",
    "            z = y + len(search_word)\n",
    "            #position z such that the next character will not be a space character\n",
    "            while file_name[z] == \" \":\n",
    "                z = z + 1\n",
    "            new_name=file_name[z:x]\n",
    "        else: return file_name\n",
    "    else:\n",
    "        #search_word starts with @\n",
    "        x = len(file_name)\n",
    "        search_word = search_word[1:len(search_word)]\n",
    "        if search_word in file_name:\n",
    "            y = file_name.index(search_word)\n",
    "            #position y such that the previous character will not be a space character\n",
    "            while file_name[y-1] == \" \":\n",
    "                y = y - 1\n",
    "            #get file extension\n",
    "            z = x-1\n",
    "            while file_name[z] != \".\":\n",
    "                z = z-1\n",
    "            ext = file_name[z:x]\n",
    "            new_name = file_name[0:y] + ext\n",
    "        else: return file_name\n",
    "    return new_name\n",
    "\n",
    "def rename_file(file_name, new_name):\n",
    "    #check if new_name has a duplicate existing file\n",
    "    current_file_list = os.listdir(os.getcwd())\n",
    "    #monitor any changes in the number of files to flag any reduction in numbers\n",
    "    start_nos = len(current_file_list)\n",
    "    if new_name in current_file_list:\n",
    "        print(\"### There is duplicate file!!! ###\")\n",
    "        #yes, it has a duplicate. We have to delete one, preferably the one with a smaller file size\n",
    "        statinfo = os.stat(new_name)\n",
    "        new_name_size = statinfo.st_size\n",
    "        print(new_name, new_name_size)\n",
    "        statinfo = os.stat(file_name)\n",
    "        file_name_size = statinfo.st_size\n",
    "        print(file_name, file_name_size)\n",
    "        if file_name_size > new_name_size:\n",
    "            #delete the duplicate new_name file\n",
    "            os.remove(new_name)\n",
    "            print(\"### duplicate \"+new_name+\" deleted ###\")\n",
    "            os.renames(file_name, new_name)\n",
    "        else:\n",
    "            os.remove(file_name)\n",
    "            #no further action. leave the duplicate file alone\n",
    "    else:\n",
    "        #new name has do duplicate in the current list of files\n",
    "        #rename file_name to new_name\n",
    "        os.renames(file_name, new_name)\n",
    "    #let's test again if there number of files has not changed\n",
    "    current_file_list = os.listdir(os.getcwd())\n",
    "    end_nos = len(current_file_list)\n",
    "    if start_nos != end_nos:\n",
    "        print(\"files reduced by \", start_nos - end_nos)\n",
    "        "
   ]
  },
  {
   "cell_type": "code",
   "execution_count": 30,
   "metadata": {},
   "outputs": [
    {
     "name": "stdin",
     "output_type": "stream",
     "text": [
      "input file path:  /Volumes/Extreme SSD/Music/Tom T. Hall\n"
     ]
    },
    {
     "name": "stdout",
     "output_type": "stream",
     "text": [
      "/Volumes/Extreme SSD/Music/Tom T. Hall\n"
     ]
    }
   ],
   "source": [
    "#It would be nice to select the directory path using finder-like capability\n",
    "path = input(\"input file path: \")\n",
    "os.chdir(path)\n",
    "print(os.getcwd())\n",
    "files = os.listdir(os.getcwd())"
   ]
  },
  {
   "cell_type": "code",
   "execution_count": 31,
   "metadata": {},
   "outputs": [],
   "source": [
    "#first round of test is to check for typical conditions\n",
    "for file_name in files:\n",
    "    #check if file_name is a valid file\n",
    "    valid_file = check_valid_musicfile(file_name)\n",
    "    #Conditions to be checked that follow xchar format are defined below:\n",
    "    conditions = [\".\", \" \", \"-\", \")\",\"_\"]\n",
    "    for condition in conditions:\n",
    "        xchar = check_for_xchar(file_name, condition)\n",
    "        if xchar == \"\": continue\n",
    "        if valid_file:\n",
    "            new_name = clean_filename(file_name, xchar)        \n",
    "            #print(file_name)\n",
    "            print(new_name)\n",
    "            rename_file(file_name, new_name)\n",
    "            break"
   ]
  },
  {
   "cell_type": "code",
   "execution_count": 32,
   "metadata": {},
   "outputs": [
    {
     "name": "stdin",
     "output_type": "stream",
     "text": [
      "Search character or word(s), none to exit, @word to delete end:  @- Tom T\n"
     ]
    },
    {
     "name": "stdout",
     "output_type": "stream",
     "text": [
      "I Love.mp3\n",
      "That Song Is Driving Me Crazy.mp3\n",
      "Faster Horses (The Cowboy And The Poet).mp3\n",
      "I Like Beer.mp3\n",
      "(Old Dogs-Children And) Watermelon Wine.mp3\n",
      "Country Is.mp3\n",
      "P.S. I Love You.mp3\n",
      "Ravishing Ruby.mp3\n",
      "A Week In A Country Jail.mp3\n",
      "I Care.mp3\n",
      "The Year That Clayton Delaney Died.mp3\n"
     ]
    },
    {
     "name": "stdin",
     "output_type": "stream",
     "text": [
      "Search character or word(s), none to exit, @word to delete end:  \n"
     ]
    }
   ],
   "source": [
    "#second round of test is a loop for specific characters or word(s). Loop is stopped on blank input\n",
    "search_word = \" \"\n",
    "while search_word != \"\":\n",
    "    search_word = input(\"Search character or word(s), none to exit, @word to delete end: \")    \n",
    "    if search_word == \"\": break\n",
    "    files = os.listdir(os.getcwd())\n",
    "    for file_name in files:\n",
    "        #check if file_name is a valid file\n",
    "        valid_file = check_valid_musicfile(file_name)\n",
    "        if valid_file:\n",
    "            new_name = clean_filename(file_name, search_word)\n",
    "            if new_name != file_name:\n",
    "                #print(file_name)\n",
    "                print(new_name)\n",
    "                rename_file(file_name, new_name)                \n",
    "            #else just skip the file and do nothing"
   ]
  },
  {
   "cell_type": "code",
   "execution_count": null,
   "metadata": {},
   "outputs": [],
   "source": []
  }
 ],
 "metadata": {
  "kernelspec": {
   "display_name": "Python 3",
   "language": "python",
   "name": "python3"
  },
  "language_info": {
   "codemirror_mode": {
    "name": "ipython",
    "version": 3
   },
   "file_extension": ".py",
   "mimetype": "text/x-python",
   "name": "python",
   "nbconvert_exporter": "python",
   "pygments_lexer": "ipython3",
   "version": "3.7.6"
  }
 },
 "nbformat": 4,
 "nbformat_minor": 4
}
